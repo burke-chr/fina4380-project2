{
 "cells": [
  {
   "cell_type": "code",
   "execution_count": 1,
   "id": "d0eb4f16-5a99-460d-a5ba-706b7ef0bbe7",
   "metadata": {
    "id": "bA5ajAmk7XH6"
   },
   "outputs": [
    {
     "ename": "ModuleNotFoundError",
     "evalue": "No module named 'pandas_datareader'",
     "output_type": "error",
     "traceback": [
      "\u001b[1;31m---------------------------------------------------------------------------\u001b[0m",
      "\u001b[1;31mModuleNotFoundError\u001b[0m                       Traceback (most recent call last)",
      "Input \u001b[1;32mIn [1]\u001b[0m, in \u001b[0;36m<cell line: 11>\u001b[1;34m()\u001b[0m\n\u001b[0;32m      8\u001b[0m get_ipython()\u001b[38;5;241m.\u001b[39mrun_line_magic(\u001b[38;5;124m'\u001b[39m\u001b[38;5;124mprecision\u001b[39m\u001b[38;5;124m'\u001b[39m, \u001b[38;5;124m'\u001b[39m\u001b[38;5;124m4\u001b[39m\u001b[38;5;124m'\u001b[39m)\n\u001b[0;32m      9\u001b[0m get_ipython()\u001b[38;5;241m.\u001b[39mrun_line_magic(\u001b[38;5;124m'\u001b[39m\u001b[38;5;124mconfig\u001b[39m\u001b[38;5;124m'\u001b[39m, \u001b[38;5;124m\"\u001b[39m\u001b[38;5;124mInlineBackend.figure_format = \u001b[39m\u001b[38;5;124m'\u001b[39m\u001b[38;5;124mretina\u001b[39m\u001b[38;5;124m'\u001b[39m\u001b[38;5;124m\"\u001b[39m)\n\u001b[1;32m---> 11\u001b[0m \u001b[38;5;28;01mimport\u001b[39;00m \u001b[38;5;21;01mpandas_datareader\u001b[39;00m \u001b[38;5;28;01mas\u001b[39;00m \u001b[38;5;21;01mpdr\u001b[39;00m\n\u001b[0;32m     12\u001b[0m \u001b[38;5;28;01mimport\u001b[39;00m \u001b[38;5;21;01mrequests_cache\u001b[39;00m\n\u001b[0;32m     13\u001b[0m session \u001b[38;5;241m=\u001b[39m requests_cache\u001b[38;5;241m.\u001b[39mCachedSession(expire_after\u001b[38;5;241m=\u001b[39m\u001b[38;5;124m'\u001b[39m\u001b[38;5;124m1D\u001b[39m\u001b[38;5;124m'\u001b[39m)\n",
      "\u001b[1;31mModuleNotFoundError\u001b[0m: No module named 'pandas_datareader'"
     ]
    }
   ],
   "source": [
    "import pandas as pd\n",
    "import numpy as np\n",
    "import matplotlib.pyplot as plt\n",
    "import matplotlib as mpl\n",
    "import datetime as dt\n",
    "\n",
    "pd.set_option('display.float_format', '{:.4f}'.format)\n",
    "%precision 4\n",
    "%config InlineBackend.figure_format = 'retina'\n",
    "\n",
    "import pandas_datareader as pdr\n",
    "import requests_cache\n",
    "session = requests_cache.CachedSession(expire_after='1D')"
   ]
  },
  {
   "cell_type": "code",
   "execution_count": 3,
   "id": "70d19c1a",
   "metadata": {},
   "outputs": [
    {
     "name": "stdout",
     "output_type": "stream",
     "text": [
      "Collecting package metadata (current_repodata.json): ...working... done"
     ]
    },
    {
     "name": "stderr",
     "output_type": "stream",
     "text": [
      "\n",
      "PackagesNotFoundError: The following packages are not available from current channels:\n"
     ]
    },
    {
     "name": "stdout",
     "output_type": "stream",
     "text": [
      "\n",
      "Solving environment: ...working... failed with initial frozen solve. Retrying with flexible solve.\n",
      "Collecting package metadata (repodata.json): ...working... done\n",
      "Solving environment: ...working... failed with initial frozen solve. Retrying with flexible solve.\n"
     ]
    },
    {
     "name": "stderr",
     "output_type": "stream",
     "text": [
      "\n",
      "  - pandas_datareader\n",
      "\n",
      "Current channels:\n",
      "\n",
      "  - https://repo.anaconda.com/pkgs/main/win-64\n",
      "  - https://repo.anaconda.com/pkgs/main/noarch\n",
      "  - https://repo.anaconda.com/pkgs/r/win-64\n",
      "  - https://repo.anaconda.com/pkgs/r/noarch\n",
      "  - https://repo.anaconda.com/pkgs/msys2/win-64\n",
      "  - https://repo.anaconda.com/pkgs/msys2/noarch\n",
      "\n",
      "To search for alternate channels that may provide the conda package you're\n",
      "looking for, navigate to\n",
      "\n",
      "    https://anaconda.org\n",
      "\n",
      "and use the search bar at the top of the page.\n",
      "\n",
      "\n"
     ]
    }
   ],
   "source": [
    "import sys\n",
    "!conda install --yes --prefix {sys.prefix} pandas_datareader"
   ]
  },
  {
   "cell_type": "code",
   "execution_count": null,
   "id": "197a0616-caa1-4c50-b299-8284820337ff",
   "metadata": {},
   "outputs": [],
   "source": [
    "ff = (\n",
    "    pdr.get_data_famafrench(\n",
    "        symbols='F-F_Research_Data_Factors', # get monthly FF factors\n",
    "        start='1900', # return all available data\n",
    "        session=session # use my cache file to reduce downloads\n",
    "    )[0] # slice the factor data frame\n",
    "    .div(100) # convert it to decimals\n",
    "    .assign(Mkt = lambda x: x['Mkt-RF'] + x['RF']) # calculate market return\n",
    "    [['Mkt', 'RF']] # slice only market return and risk-free rate\n",
    ")"
   ]
  },
  {
   "cell_type": "markdown",
   "id": "2ee969f1-258e-4275-a07d-0c48bb14c47b",
   "metadata": {},
   "source": [
    "# Consider only 1999 through today"
   ]
  },
  {
   "cell_type": "code",
   "execution_count": null,
   "id": "90b20ea5-6d77-4f72-ab2f-2f8284325670",
   "metadata": {},
   "outputs": [],
   "source": [
    "# manipulation of data to only consider Fama-French data from 1999 to today\n",
    "df_starting_99 = ff['200001':'202209'] # TODO: check with professor during office hours if this is the intended splice of timeframe"
   ]
  },
  {
   "cell_type": "markdown",
   "id": "444909f9-3e36-491f-845c-fcbec0be65ad",
   "metadata": {},
   "source": [
    "### LS Investment Strategy"
   ]
  },
  {
   "cell_type": "code",
   "execution_count": null,
   "id": "5c0df005-4321-4d3d-b149-efa9720e1b20",
   "metadata": {},
   "outputs": [],
   "source": [
    "# function used in reading the LS Strategy plot and retrieving the portfolio final value\n",
    "# citation: https://stackoverflow.com/questions/20130768/retrieve-xy-data-from-matplotlib-figure\n",
    "def get_final_value(plot=plt):\n",
    "    ax = plt.gca()\n",
    "    line = ax.lines[0]\n",
    "    y_data = line.get_ydata()\n",
    "    final_value = round(y_data[-1], 2)\n",
    "    return final_value"
   ]
  },
  {
   "cell_type": "code",
   "execution_count": null,
   "id": "cce2cd43-ca2e-4cd4-830b-7a03a88c3af1",
   "metadata": {},
   "outputs": [],
   "source": [
    "df_starting_99['Mkt'].add(1).cumprod().mul(18000).plot() # invests $18,000 into the market all at the start\n",
    "plt.ylabel('Value ($)')\n",
    "plt.title('LS Investment Strategy:\\n$18,000 Lump Sum Investment in the Mkt [2000-2022]', fontsize=10, fontweight='bold')\n",
    "plt.figtext(0.335, 0.3, 'Note: Decrease in value from 2000 to 2003', ha=\"center\", fontsize=8, bbox={\"facecolor\":\"orange\", \"alpha\":0.4, \"pad\":5})\n",
    "fin_val = get_final_value()\n",
    "plt.figtext(1.03, 0.5, f'Final Value = ${fin_val}', ha=\"center\", fontsize=8, bbox={\"facecolor\":\"orange\", \"alpha\":0.4, \"pad\":5})\n",
    "plt.show()"
   ]
  },
  {
   "cell_type": "markdown",
   "id": "25830173-f369-4cbd-9c11-15ca68640209",
   "metadata": {
    "tags": []
   },
   "source": [
    "### DCA Investment Strategy"
   ]
  },
  {
   "cell_type": "code",
   "execution_count": null,
   "id": "21e585db-301e-49e1-a22f-526c2c65e786",
   "metadata": {},
   "outputs": [],
   "source": [
    "# input: fama-french market data with properly spliced timeframe, starting investment\n",
    "# assumes that $1000 investments max will be made into the market, all money in the savings account earns risk free interest\n",
    "# output: pandas series of the overall value of the portfolio, the final value of the portfolio\n",
    "def dca_1000(data, starting_investment):\n",
    "    investment_remaining = starting_investment # the amount that is being invested into the DCA strategy\n",
    "    for date, (mkt, rf) in data[['Mkt', 'RF']].iterrows(): # loop down the data frame of market returns\n",
    "        if date == data.index[0]:\n",
    "            dca_bgn = 0\n",
    "            data['dca_end'] = np.nan # not strictly necessary\n",
    "        if investment_remaining >= 1000:\n",
    "            dca_end = (dca_bgn + 1_000) * (1 + mkt)\n",
    "            investment_remaining = investment_remaining - 1000 + (investment_remaining * rf) # calculates new cash amount left\n",
    "        elif investment_remaining < 1000 and investment_remaining > 0: # last period of moving cash from savings to market\n",
    "            dca_end = (dca_bgn + investment_remaining) * (1 + mkt)\n",
    "            investment_remaining = 0\n",
    "        else: # all remaining growth through the market after all investments have been made\n",
    "            dca_end = dca_bgn * (1 + mkt)\n",
    "        data.loc[date, 'dca_end'] = dca_end\n",
    "        dca_bgn = dca_end\n",
    "    final_value = round(data['dca_end'].iloc[-1], 2) # calculates the final portfolio value\n",
    "    return data['dca_end'], final_value"
   ]
  },
  {
   "cell_type": "code",
   "execution_count": null,
   "id": "b7b03a3b-fb4d-4521-b893-d792690bcce7",
   "metadata": {},
   "outputs": [],
   "source": [
    "result, end_val = dca_1000(df_starting_99, 18000)"
   ]
  },
  {
   "cell_type": "code",
   "execution_count": null,
   "id": "f9868997-18ff-4898-aa43-85d8e1f34e4c",
   "metadata": {},
   "outputs": [],
   "source": [
    "#df_starting_99['dca_since_99_end'].plot()\n",
    "result.plot()\n",
    "plt.ylabel('Value ($)')\n",
    "plt.title('DCA Investment Strategy:\\n\\$1,000 Monthly Using \\$18,000 Total [2000-2022]', fontsize=11, fontweight='bold')\n",
    "plt.figtext(0.4, 0.7, 'DCA Investment strategy factors in risk free\\n interest rate earned from cash in savings account', ha=\"center\", fontsize=8, bbox={\"facecolor\":\"orange\", \"alpha\":0.4, \"pad\":5})\n",
    "plt.figtext(0.335, 0.35, 'Note: Increase in value from 2000 to 2003', ha=\"center\", fontsize=8, bbox={\"facecolor\":\"orange\", \"alpha\":0.4, \"pad\":5})\n",
    "plt.figtext(1.03, 0.5, f'Final Value = ${end_val}', ha=\"center\", fontsize=8, bbox={\"facecolor\":\"orange\", \"alpha\":0.4, \"pad\":5})\n",
    "plt.show()"
   ]
  },
  {
   "cell_type": "markdown",
   "id": "62ea9323-4572-4fb7-b83e-7990dbc9da03",
   "metadata": {},
   "source": [
    "## Analysis for Question 1\n",
    "Based on our calculations, the Lump Sum investment strategy's final value was \\\\$70,508.94 and the DCA investment strategy's final value was \\\\$80,049.64, a difference of \\\\$9,540.70 in favor of the DCA strategy. We attribute this largely to the market returns viewable between the years of 2000 to 2003. This timeframe of investments (approx 18 months for the DCA strategy) occurred while the market returns were generally negative, meaning the value of the cash invested in the LS method was depreciating whilst the cash invested gradually in the DCA method worked to the investors benefit. Scaling into the position slowly helped lower the overall average entry price. The LS method was greatly affected by the timing in which the investment was made."
   ]
  },
  {
   "cell_type": "markdown",
   "id": "f8d01a0f-5ba4-4147-89e9-932cc587e46b",
   "metadata": {},
   "source": [
    "## TODO: Ask professor during office hours if this analysis/discussion is sufficient ^"
   ]
  },
  {
   "cell_type": "markdown",
   "id": "426787bd-62aa-428c-9a5d-89d29b47e014",
   "metadata": {},
   "source": [
    "# Can you find a period that reverses your question 1 conclusion?"
   ]
  },
  {
   "cell_type": "markdown",
   "id": "459693e6-241b-4d69-9497-75ad77c6939d",
   "metadata": {
    "tags": []
   },
   "source": [
    "As we alluded to within our dicussion of results to question 1, the period of 2000 to 2003 saw a generally negative market return. Our prediction is that if we postponed the first investment date to the beginning of 2003, our conclusions found for question 1 will reverse (that is, the LS investment method will have a higher final value than the DCA investment method)."
   ]
  },
  {
   "cell_type": "markdown",
   "id": "f145cc59-72fa-4d4c-b496-0af30358ee93",
   "metadata": {},
   "source": [
    "### LS Investment Strategy"
   ]
  },
  {
   "cell_type": "code",
   "execution_count": null,
   "id": "caa5ffa9-92e5-4c02-ad4d-b177b18742eb",
   "metadata": {},
   "outputs": [],
   "source": [
    "# manipulation of data to only consider Fama-French data from 2003 to today\n",
    "df_starting_03 = ff['200301':'202209'] # TODO: check with professor during office hours if this is the intended splice of timeframe"
   ]
  },
  {
   "cell_type": "code",
   "execution_count": null,
   "id": "2e8ddbd4-7c17-4aea-93f5-1a49ef468185",
   "metadata": {},
   "outputs": [],
   "source": [
    "df_starting_03['Mkt'].add(1).cumprod().mul(18000).plot() # invests $18,000 into the market all at the start\n",
    "plt.ylabel('Value ($)')\n",
    "plt.title('LS Investment Strategy:\\n$18,000 Lump Sum Investment in the Mkt [2003-2022]', fontsize=10, fontweight='bold')\n",
    "fin_val = get_final_value()\n",
    "plt.figtext(1.03, 0.5, f'Final Value = ${fin_val}', ha=\"center\", fontsize=8, bbox={\"facecolor\":\"orange\", \"alpha\":0.4, \"pad\":5})\n",
    "plt.show()"
   ]
  },
  {
   "cell_type": "markdown",
   "id": "8642eceb-ae63-4eae-86b1-a5ead403eba3",
   "metadata": {},
   "source": [
    "### DCA Investment Strategy"
   ]
  },
  {
   "cell_type": "code",
   "execution_count": null,
   "id": "3a65ba89-fe15-48c8-80d3-b8ce25327434",
   "metadata": {},
   "outputs": [],
   "source": [
    "result, end_val = dca_1000(df_starting_03, 18000)"
   ]
  },
  {
   "cell_type": "code",
   "execution_count": null,
   "id": "a95b5dbf-c76a-40ac-9898-c0589ee9287d",
   "metadata": {},
   "outputs": [],
   "source": [
    "result.plot()\n",
    "plt.ylabel('Value ($)')\n",
    "plt.title('DCA Investment Strategy:\\n\\$1,000 Monthly Using \\$18,000 Total [2003-2022]', fontsize=11, fontweight='bold')\n",
    "plt.figtext(1.03, 0.5, f'Final Value = ${end_val}', ha=\"center\", fontsize=8, bbox={\"facecolor\":\"orange\", \"alpha\":0.4, \"pad\":5})\n",
    "plt.show()"
   ]
  },
  {
   "cell_type": "markdown",
   "id": "c5ba3408-fd26-4fbf-a82e-45dd47c1ff28",
   "metadata": {},
   "source": [
    "## Analysis for Question 2\n",
    "As we initially predicted, altering the start date to the beginning of 2003 reversed our conclusions from question 1. The LS method returned a final value of \\\\$114,237.48 while the DCA method returned a final value of \\\\$98,810.69. It's also interesting to note that both methods resulted in a higher final value when starting in 2003 relative to the final value when starting in 2000. As a result of moving the start date forward, the LS strategy's return grew by approximately 62\\% and the DCA strategy's return grew by approximately 23\\%. \n",
    "\n",
    "Our conclusions through both of the analyses are that if the overall market return during the DCA period is positive, the LS strategy will have a higher ending value because it maximizes the benefits of the positive market changes. In this situation, the DCA method has a higher average entry price than the LS strategy because it is buying into higher and higher prices compared to the starting price that the LS strategy entered at. If the overall market return during the DCA period is negative, the DCA strategy will have a higher ending value since the average entry price will be lower than the LS strategy."
   ]
  },
  {
   "cell_type": "markdown",
   "id": "b787f7ad-6a45-4b13-a04a-5e342472f16c",
   "metadata": {},
   "source": [
    "## TODO: Ask professor during office hours if this analysis/discussion is sufficient ^"
   ]
  },
  {
   "cell_type": "markdown",
   "id": "b96f06c9-ac94-4731-b3e4-dfa6ae9c10c1",
   "metadata": {
    "tags": []
   },
   "source": [
    "### TODO: Delete before submitting?? I'm unsure if this is a question that has to be explicitly answered or not\n",
    "### ask professor during office hours\n",
    "We choose between LS and DCA for retirement savings, too. For example, we can invest about `$`20,000 yearly in tax-advantaged 401(k) accounts. Your goal for this project is to convince me which is better, LS or DCA. Explain and discuss your results."
   ]
  },
  {
   "cell_type": "markdown",
   "id": "de3c9168-53f6-4f51-a191-54f5eea3a856",
   "metadata": {
    "tags": []
   },
   "source": [
    "# Consider all full years from 1927 through 2021"
   ]
  },
  {
   "cell_type": "markdown",
   "id": "84426b8f-b69d-4e8b-bc46-d102c63c804d",
   "metadata": {},
   "source": [
    "LS immediately invests all `$`20,000 in the market. DCA immediately invests `$`20,000/12 in the market, the remainder in cash, and moves `$`20,000/12 from savings to the market each month. Each year’s last move will move the remainder of the cash account, so the next year starts with a zero balance. Which strategy has a higher final value and why? Discuss."
   ]
  },
  {
   "cell_type": "code",
   "execution_count": null,
   "id": "e565a15c-8870-4574-a084-57164eb5d88b",
   "metadata": {},
   "outputs": [],
   "source": [
    "# manipulation of data to only consider Fama-French data from 1927 through 2021\n",
    "df_full = ff['192701':'202112'] "
   ]
  },
  {
   "cell_type": "markdown",
   "id": "be7fabbc-c337-4347-8c08-da1664d9225e",
   "metadata": {},
   "source": [
    "### LS Investment Strategy"
   ]
  },
  {
   "cell_type": "code",
   "execution_count": null,
   "id": "68920f0a-8781-41b4-8357-eb4c23a6ac5a",
   "metadata": {
    "tags": []
   },
   "outputs": [],
   "source": [
    "# indicate which months to make ls investment\n",
    "df_full['Add_Investment'] = False # default\n",
    "df_full['Add_Investment'][::12] = True # adds a boolean indicator to add a lump sum investment at the start of every year"
   ]
  },
  {
   "cell_type": "code",
   "execution_count": null,
   "id": "86069a5e-e721-4e72-bf3b-9a03c785b7a2",
   "metadata": {},
   "outputs": [],
   "source": [
    "def ls_per_year(data, yearly_investment=20000):\n",
    "    for date, (mkt, rf, new_payment) in data[['Mkt', 'RF', 'Add_Investment']].iterrows():\n",
    "        if date == data.index[0]:\n",
    "            bgn = 0\n",
    "            data['end'] = np.nan # not strictly necessary\n",
    "        if new_payment == True: # add lump sum investment at beginning of year\n",
    "            end = (bgn + yearly_investment) * (1 + mkt)\n",
    "        else: # add monthly market growth without lump sum investment\n",
    "            end = bgn * (1 + mkt)\n",
    "        data.loc[date, 'end'] = end\n",
    "        bgn = end\n",
    "    final_value = round(data['end'].iloc[-1], 2) # calculates the final portfolio value\n",
    "    return data['end'], final_value"
   ]
  },
  {
   "cell_type": "code",
   "execution_count": null,
   "id": "21ed6970-093e-416b-918d-23405c95140d",
   "metadata": {},
   "outputs": [],
   "source": [
    "result, end_val = ls_per_year(df_full)\n",
    "plt.ylabel('Value ($)')\n",
    "plt.title('LS Investment Strategy:\\n\\$20,000 Yearly Using [1927-2021]', fontsize=11, fontweight='bold')\n",
    "plt.figtext(1.03, 0.5, f'Final Value = ${end_val}', ha=\"center\", fontsize=8, bbox={\"facecolor\":\"orange\", \"alpha\":0.4, \"pad\":5})\n",
    "plt.show()"
   ]
  },
  {
   "cell_type": "code",
   "execution_count": null,
   "id": "d4ef593b-26d2-4bea-af86-677c67e0a841",
   "metadata": {},
   "outputs": [],
   "source": [
    "def ls_method(startyear, endyear, amountinvested):\n",
    "    return ff.loc[startyear:endyear, 'Mkt'].add(1).cumprod().mul(amountinvested)"
   ]
  },
  {
   "cell_type": "code",
   "execution_count": null,
   "id": "8e0f4f90-e97f-428d-905b-a9efd7f3c05e",
   "metadata": {},
   "outputs": [],
   "source": [
    "def LS_strategy(start, end):\n",
    "    account_value=0\n",
    "    ls_final_account=[]\n",
    "    for i in range(int(start), int(end)+1):\n",
    "        account_value= account_value+20000\n",
    "        account_value= ls_method(str(i)+'-01', str(i)+'-12', account_value)[-1]\n",
    "        ls_final_account.append(account_value)\n",
    "        return ls_final_account"
   ]
  },
  {
   "cell_type": "code",
   "execution_count": null,
   "id": "0607923e-c9cd-4da0-8f14-16e3a8b466eb",
   "metadata": {},
   "outputs": [],
   "source": [
    "LS_graph = np.array(LS_strategy('1927','2021'))\n",
    "LS_graph.plt.plot(label = 'LS_graph')\n",
    "plt.xlabel(\"Date(Year)\")\n",
    "plt.ylabel('Value ($)')\n",
    "plt.title('LS From 1927 through 2021')\n",
    "plt.legend()\n",
    "plt.show()"
   ]
  },
  {
   "cell_type": "markdown",
   "id": "55fcd039-0cd6-404e-9a71-da527edd6dc3",
   "metadata": {
    "tags": []
   },
   "source": [
    "### DCA Investment Strategy"
   ]
  },
  {
   "cell_type": "code",
   "execution_count": null,
   "id": "6d27ec77-524b-442e-83a9-dc68bc490f15",
   "metadata": {},
   "outputs": [],
   "source": [
    "# input: fama-french market data with properly spliced timeframe, starting investment\n",
    "# output: pandas series of the overall value of the portfolio, the final value of the portfolio\n",
    "monthly_payment = 20000 / 12\n",
    "def dca_20000_divide_12(data, starting_investment):\n",
    "    investment_remaining = starting_investment # the amount that is being invested into the DCA strategy\n",
    "    for date, (mkt, rf) in data[['Mkt', 'RF']].iterrows(): # loop down the data frame of market returns\n",
    "        if date == data.index[0]:\n",
    "            dca_bgn = 0\n",
    "            data['dca_end'] = np.nan # not strictly necessary\n",
    "        if investment_remaining >= monthly_payment:\n",
    "            dca_end = (dca_bgn + monthly_payment) * (1 + mkt)\n",
    "            investment_remaining = investment_remaining - monthly_payment + (investment_remaining * rf) # calculates new cash amount left\n",
    "        elif investment_remaining < monthly_payment and investment_remaining > 0: # last period of moving cash from savings to market\n",
    "            dca_end = (dca_bgn + investment_remaining) * (1 + mkt)\n",
    "            investment_remaining = 0\n",
    "        else: # all remaining growth through the market after all investments have been made\n",
    "            dca_end = dca_bgn * (1 + mkt)\n",
    "        data.loc[date, 'dca_end'] = dca_end\n",
    "        dca_bgn = dca_end\n",
    "    final_value = round(data['dca_end'].iloc[-1], 2) # calculates the final portfolio value\n",
    "    return data['dca_end'], final_value"
   ]
  },
  {
   "cell_type": "code",
   "execution_count": null,
   "id": "b3ae6456-df26-40a4-a10e-d073b2ca6df8",
   "metadata": {},
   "outputs": [],
   "source": [
    "q3_result, q3_end_val = dca_20000_divide_12(df_starting_27, 20000)"
   ]
  },
  {
   "cell_type": "code",
   "execution_count": null,
   "id": "b784e7d0-6bb6-4f5f-a530-715a92b01b74",
   "metadata": {},
   "outputs": [],
   "source": [
    "q3_result.plot()\n",
    "plt.ylabel('Value ($)')\n",
    "plt.title('DCA Investment Strategy:\\n\\$1666.66666667 Monthly Using \\$20,000 Total [1927-2021]', fontsize=11, fontweight='bold')\n",
    "plt.figtext(0.4, 0.7, 'DCA Investment strategy factors in risk free\\n interest rate earned from cash in savings account', ha=\"center\", fontsize=8, bbox={\"facecolor\":\"orange\", \"alpha\":0.4, \"pad\":5})\n",
    "plt.figtext(1.03, 0.5, f'Final Value = ${q3_end_val}', ha=\"center\", fontsize=8, bbox={\"facecolor\":\"orange\", \"alpha\":0.4, \"pad\":5})\n",
    "plt.show()"
   ]
  },
  {
   "cell_type": "markdown",
   "id": "7abfba75-5153-4569-aaa3-65ef5eb4f469",
   "metadata": {},
   "source": [
    "# Consider all available 20-year holding periods (i.e., 1927 to 1946, 1928 to 1947, and so on)"
   ]
  },
  {
   "cell_type": "markdown",
   "id": "2a00fc5f-2b8f-418b-b8dd-f91164ac064b",
   "metadata": {},
   "source": [
    "Which strategy typically has higher final values, how much higher, and why? Discuss."
   ]
  },
  {
   "cell_type": "markdown",
   "id": "cb83e8f7-f142-4adc-b08f-1f29e89b4df2",
   "metadata": {},
   "source": [
    "# Which investing strategy is better overall, LS or DCA?"
   ]
  },
  {
   "cell_type": "markdown",
   "id": "5950c7e6-962b-4fd6-82cc-b6cd0f2338ba",
   "metadata": {},
   "source": [
    "Discuss, including any limitations of your conclusion."
   ]
  },
  {
   "cell_type": "code",
   "execution_count": null,
   "id": "4d4d2931-46ab-43be-b36e-d3bc5a52275e",
   "metadata": {},
   "outputs": [],
   "source": []
  },
  {
   "cell_type": "code",
   "execution_count": null,
   "id": "11616c0f-108b-4725-b082-96c179f03e44",
   "metadata": {},
   "outputs": [],
   "source": []
  },
  {
   "cell_type": "code",
   "execution_count": null,
   "id": "62f8f275-1f20-40ca-be31-48a091bc8efb",
   "metadata": {},
   "outputs": [],
   "source": []
  }
 ],
 "metadata": {
  "colab": {
   "name": "Welcome to DataCamp Workspaces.ipynb",
   "provenance": []
  },
  "kernelspec": {
   "display_name": "Python 3 (ipykernel)",
   "language": "python",
   "name": "python3"
  },
  "language_info": {
   "codemirror_mode": {
    "name": "ipython",
    "version": 3
   },
   "file_extension": ".py",
   "mimetype": "text/x-python",
   "name": "python",
   "nbconvert_exporter": "python",
   "pygments_lexer": "ipython3",
   "version": "3.9.12"
  }
 },
 "nbformat": 4,
 "nbformat_minor": 5
}
